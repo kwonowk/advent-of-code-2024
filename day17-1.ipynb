{
 "cells": [
  {
   "cell_type": "markdown",
   "metadata": {},
   "source": [
    "# Day 17: [Chronospatial Computer](https://adventofcode.com/2024/day/17)"
   ]
  },
  {
   "cell_type": "markdown",
   "metadata": {},
   "source": [
    "## Pseudo code\n",
    "1. Store input text as registers (A,B,C) and programme\n",
    "2. Code instructions, with combo operands converting code\n",
    "3. Print final output"
   ]
  },
  {
   "cell_type": "markdown",
   "metadata": {},
   "source": [
    "## 1. Input to registers and programme"
   ]
  },
  {
   "cell_type": "code",
   "execution_count": 1,
   "metadata": {},
   "outputs": [],
   "source": [
    "with open('day17-1.txt','r') as f:\n",
    "    input_text = [lines.strip() for lines in f]"
   ]
  },
  {
   "cell_type": "code",
   "execution_count": 2,
   "metadata": {},
   "outputs": [],
   "source": [
    "import re\n",
    "filter = r': (\\S+)'\n",
    "a, b, c, p = re.findall(filter, ' '.join(input_text))\n",
    "a = int(a)\n",
    "b = int(b)\n",
    "c = int(c)\n",
    "p = [int(i) for i in p.split(',')]"
   ]
  },
  {
   "cell_type": "markdown",
   "metadata": {},
   "source": [
    "## 2. Code instructions"
   ]
  },
  {
   "cell_type": "code",
   "execution_count": 3,
   "metadata": {},
   "outputs": [],
   "source": [
    "# Convert combo operand to number\n",
    "def combo(num):\n",
    "    match num:\n",
    "        case 4: return a\n",
    "        case 5: return b\n",
    "        case 6: return c\n",
    "        case _: return num"
   ]
  },
  {
   "cell_type": "code",
   "execution_count": 4,
   "metadata": {},
   "outputs": [
    {
     "name": "stdout",
     "output_type": "stream",
     "text": [
      "end\n"
     ]
    }
   ],
   "source": [
    "# Run the programme until the pointer reaches the end\n",
    "switch = 1\n",
    "output = []\n",
    "p_loc = 0\n",
    "\n",
    "while switch:\n",
    "\n",
    "    opcode = p[p_loc]\n",
    "    operand = p[p_loc+1]\n",
    "\n",
    "    if opcode == 0:                 # adv instruction\n",
    "        operand = combo(operand)\n",
    "        a = a//(2**operand)\n",
    "\n",
    "    elif opcode == 1:                 # bxl instruction\n",
    "        b ^= operand\n",
    "\n",
    "    elif opcode == 2:                 # bst instruction\n",
    "        operand = combo(operand)\n",
    "        b = operand%8\n",
    "\n",
    "    elif (opcode == 3) and (a != 0):  # jnz instruction\n",
    "        p_loc = operand-2\n",
    "\n",
    "    elif opcode == 4:                 #bxc instruction\n",
    "        b ^= c\n",
    "\n",
    "    elif opcode == 5:                 #out instruction\n",
    "        operand = combo(operand)\n",
    "        output.append(operand%8)\n",
    "\n",
    "    elif opcode == 6:                 #bdv instruction\n",
    "        operand = combo(operand)\n",
    "        b = a//(2**operand)\n",
    "\n",
    "    elif opcode == 7:                 #cdv instruction\n",
    "        operand = combo(operand)\n",
    "        c = a//(2**operand)\n",
    "\n",
    "    p_loc += 2\n",
    "\n",
    "    if p_loc >= len(p):           #Turn off the programme\n",
    "        print('end')\n",
    "        switch = 0"
   ]
  },
  {
   "cell_type": "markdown",
   "metadata": {},
   "source": [
    "## 3. Final output"
   ]
  },
  {
   "cell_type": "code",
   "execution_count": 5,
   "metadata": {},
   "outputs": [
    {
     "data": {
      "text/plain": [
       "'3,7,1,7,2,1,0,6,3'"
      ]
     },
     "execution_count": 5,
     "metadata": {},
     "output_type": "execute_result"
    }
   ],
   "source": [
    "answer = ','.join(str(o) for o in output)\n",
    "answer"
   ]
  }
 ],
 "metadata": {
  "kernelspec": {
   "display_name": "Python 3",
   "language": "python",
   "name": "python3"
  },
  "language_info": {
   "codemirror_mode": {
    "name": "ipython",
    "version": 3
   },
   "file_extension": ".py",
   "mimetype": "text/x-python",
   "name": "python",
   "nbconvert_exporter": "python",
   "pygments_lexer": "ipython3",
   "version": "3.10.6"
  }
 },
 "nbformat": 4,
 "nbformat_minor": 2
}
