{
 "cells": [
  {
   "cell_type": "markdown",
   "metadata": {},
   "source": [
    "# Day 10: [Hoof It](https://adventofcode.com/2024/day/10)"
   ]
  },
  {
   "cell_type": "markdown",
   "metadata": {},
   "source": [
    "## Pseudo code\n",
    "### 1. Save the input as nested list, with each number having its own location\n",
    "\n",
    "### 2. Locate 0s and search trails\n",
    "  1. Locate 0s which are starting point of trails\n",
    "  2. Starting from a 0, look for incremental numbers in [up/down/left/right] directions. If the number trail continues to 9, update the count of trailheads"
   ]
  },
  {
   "cell_type": "markdown",
   "metadata": {},
   "source": [
    "## 1. Input to array"
   ]
  },
  {
   "cell_type": "code",
   "execution_count": 47,
   "metadata": {},
   "outputs": [
    {
     "name": "stdout",
     "output_type": "stream",
     "text": [
      "Size of the topographic map\n",
      "Horizontal : 42\n",
      "Vertical : 42\n"
     ]
    }
   ],
   "source": [
    "with open('day10-1.txt', 'r') as f:\n",
    "    tmap = [[int(h) for h in line.strip()] for line in f]\n",
    "print(f'Size of the topographic map\\nHorizontal : {len(tmap[0])}\\nVertical : {len(tmap)}')"
   ]
  },
  {
   "cell_type": "markdown",
   "metadata": {},
   "source": [
    "## 2. Locating 0s and searching trails\n",
    "\n",
    "\n",
    "\n",
    "### - Calculating positions\n",
    "| Starting point | (x,y) matrix | (i,j) list|\n",
    "| --- | --- | --- |\n",
    "| Up | (x,y+1) | (i-1,j) |\n",
    "| Down | (x,y-1) | (i+1,j) |\n",
    "| Left | (x-1,y) | (i,j-1) |\n",
    "| Right | (x+1,y) | (i,j+1) |"
   ]
  },
  {
   "cell_type": "code",
   "execution_count": 48,
   "metadata": {},
   "outputs": [
    {
     "name": "stdout",
     "output_type": "stream",
     "text": [
      "514\n"
     ]
    }
   ],
   "source": [
    "trail_count = 0                 # To count trailheads\n",
    "for i in range(len(tmap)):      # Y axis\n",
    "    for j in range(len(tmap)):  # X axis\n",
    "        if tmap[i][j] == 0:\n",
    "            pos_update = [(i,j)]     # To store positions of next incremental value\n",
    "            for h in range(1,10):    # Track incremental value\n",
    "                pos_temp = []        # To store locations temporarily during a loop\n",
    "                for pos_y, pos_x in pos_update:\n",
    "                    try:\n",
    "                        if (tmap[pos_y-1][pos_x] == h) and (pos_y-1 >= 0):  # Up\n",
    "                            pos_temp.append((pos_y-1,pos_x))\n",
    "                    except :\n",
    "                        pass\n",
    "                    try:\n",
    "                        if tmap[pos_y+1][pos_x] == h:                       # Down\n",
    "                            pos_temp.append((pos_y+1,pos_x))\n",
    "                    except:\n",
    "                        pass\n",
    "                    try:\n",
    "                        if (tmap[pos_y][pos_x-1] == h) and (pos_x-1 >= 0):  # Left\n",
    "                            pos_temp.append((pos_y,pos_x-1))\n",
    "                    except:\n",
    "                        pass\n",
    "                    try:\n",
    "                        if tmap[pos_y][pos_x+1] == h:                       # Right\n",
    "                            pos_temp.append((pos_y,pos_x+1))\n",
    "                    except:\n",
    "                        pass\n",
    "                pos_update = set(pos_temp)   # Remove duplicate locations, and update positions to search for next incremental values\n",
    "            trail_count += len(pos_update)\n",
    "print(trail_count)"
   ]
  }
 ],
 "metadata": {
  "kernelspec": {
   "display_name": "Python 3",
   "language": "python",
   "name": "python3"
  },
  "language_info": {
   "codemirror_mode": {
    "name": "ipython",
    "version": 3
   },
   "file_extension": ".py",
   "mimetype": "text/x-python",
   "name": "python",
   "nbconvert_exporter": "python",
   "pygments_lexer": "ipython3",
   "version": "3.10.6"
  }
 },
 "nbformat": 4,
 "nbformat_minor": 2
}
